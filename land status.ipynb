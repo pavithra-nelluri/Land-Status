{
 "cells": [
  {
   "cell_type": "code",
   "execution_count": null,
   "id": "b9653d38",
   "metadata": {},
   "outputs": [],
   "source": [
    "import requests\n",
    "from bs4 import BeautifulSoup\n",
    "\n",
    "def get_survey_numbers(district, mandal, village):\n",
    "    url = 'https://dharani.telangana.gov.in/knowLandStatus'\n",
    "    headers = {'User-Agent': 'Mozilla/5.0'}\n",
    "    data = {\n",
    "        'districtCode': district,\n",
    "        'mandalCode': mandal,\n",
    "        'villageCode': village\n",
    "    }\n",
    "    \n",
    "    response = requests.post(url, headers=headers, data=data)\n",
    "    soup = BeautifulSoup(response.content, 'html.parser')\n",
    "    \n",
    "    survey_numbers = []    \n",
    "    return survey_numbers\n",
    "\n",
    "def main():\n",
    "    district = input(\"Enter district code: \")\n",
    "    mandal = input(\"Enter mandal code: \")\n",
    "    village = input(\"Enter village code: \")\n",
    "    survey_numbers = get_survey_numbers(district, mandal, village)\n",
    "    print(\"Survey Numbers:\", survey_numbers)\n",
    "if __name__ == \"__main__\":\n",
    "    main()\n"
   ]
  }
 ],
 "metadata": {
  "kernelspec": {
   "display_name": "Python 3 (ipykernel)",
   "language": "python",
   "name": "python3"
  },
  "language_info": {
   "codemirror_mode": {
    "name": "ipython",
    "version": 3
   },
   "file_extension": ".py",
   "mimetype": "text/x-python",
   "name": "python",
   "nbconvert_exporter": "python",
   "pygments_lexer": "ipython3",
   "version": "3.10.9"
  }
 },
 "nbformat": 4,
 "nbformat_minor": 5
}
